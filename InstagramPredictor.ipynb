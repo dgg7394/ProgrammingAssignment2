{
  "nbformat": 4,
  "nbformat_minor": 0,
  "metadata": {
    "colab": {
      "provenance": [],
      "include_colab_link": true
    },
    "kernelspec": {
      "name": "python3",
      "display_name": "Python 3"
    },
    "language_info": {
      "name": "python"
    }
  },
  "cells": [
    {
      "cell_type": "markdown",
      "metadata": {
        "id": "view-in-github",
        "colab_type": "text"
      },
      "source": [
        "<a href=\"https://colab.research.google.com/github/dgg7394/ProgrammingAssignment2/blob/master/InstagramPredictor.ipynb\" target=\"_parent\"><img src=\"https://colab.research.google.com/assets/colab-badge.svg\" alt=\"Open In Colab\"/></a>"
      ]
    },
    {
      "cell_type": "markdown",
      "source": [
        "#Gathering the Data"
      ],
      "metadata": {
        "id": "pqJ1a60BGiaE"
      }
    },
    {
      "cell_type": "code",
      "source": [
        "from google.colab import drive\n",
        "drive.mount('/content/drive')"
      ],
      "metadata": {
        "id": "wbIKSMFb9yhc",
        "colab": {
          "base_uri": "https://localhost:8080/"
        },
        "outputId": "6ec6f1d4-8a2c-4c47-cd1f-0712f84b2811"
      },
      "execution_count": null,
      "outputs": [
        {
          "output_type": "stream",
          "name": "stdout",
          "text": [
            "Drive already mounted at /content/drive; to attempt to forcibly remount, call drive.mount(\"/content/drive\", force_remount=True).\n"
          ]
        }
      ]
    },
    {
      "cell_type": "code",
      "source": [
        "# necessary libraries\n",
        "\n",
        "import pandas as pd\n",
        "import numpy as np\n",
        "import matplotlib.pyplot as plt\n",
        "import statsmodels.formula.api as smf"
      ],
      "metadata": {
        "id": "VsJ0mRCYBto-"
      },
      "execution_count": null,
      "outputs": []
    },
    {
      "cell_type": "code",
      "execution_count": null,
      "metadata": {
        "id": "va-NyJBIBKYa",
        "colab": {
          "base_uri": "https://localhost:8080/",
          "height": 500
        },
        "outputId": "e3d5e0da-961c-48aa-85b1-4d6c625f2081"
      },
      "outputs": [
        {
          "output_type": "execute_result",
          "data": {
            "text/plain": [
              "        Unnamed: 0  likes  feature_complexity  design_complexity  beach  \\\n",
              "0                0     20            1.593168           0.980899    0.0   \n",
              "1                1     19            1.548011           0.896260    0.0   \n",
              "2                2    476            1.499784           0.814901    0.0   \n",
              "3                3   1504            1.596202           0.726981    0.0   \n",
              "4                4     92            1.408038           0.436675    0.0   \n",
              "...            ...    ...                 ...                ...    ...   \n",
              "147958      147958     17            1.568694           0.738745    0.0   \n",
              "147959      147959     14            1.677964           0.453014    0.0   \n",
              "147960      147960     28            1.605179           0.455593    0.0   \n",
              "147961      147961    321            1.615784           0.666149    0.0   \n",
              "147962      147962     20            1.669432           0.607178    0.0   \n",
              "\n",
              "        cute_animals  face  followers     posts time_of_day  season  \\\n",
              "0                0.0   0.0      929.0  5.793014   afternoon  spring   \n",
              "1                0.0   0.0      765.0  4.624973   afternoon  spring   \n",
              "2                0.0   0.0    94199.0  6.595781   afternoon  spring   \n",
              "3                0.0   1.0   213389.0  6.161207   afternoon  spring   \n",
              "4                0.0   0.0     3728.0  6.192362   afternoon  spring   \n",
              "...              ...   ...        ...       ...         ...     ...   \n",
              "147958           0.0   0.0     5426.0  6.787845       night  spring   \n",
              "147959           0.0   0.0     1527.0  4.969813       night  spring   \n",
              "147960           0.0   0.0     5426.0  6.787845       night  spring   \n",
              "147961           0.0   1.0    36750.0  5.948035       night  spring   \n",
              "147962           0.0   1.0     1673.0  6.642487       night  spring   \n",
              "\n",
              "        caption_sentiment  \n",
              "0                    -1.0  \n",
              "1                     2.0  \n",
              "2                     1.0  \n",
              "3                     0.0  \n",
              "4                     0.0  \n",
              "...                   ...  \n",
              "147958                0.0  \n",
              "147959                0.0  \n",
              "147960                0.0  \n",
              "147961                0.0  \n",
              "147962                0.0  \n",
              "\n",
              "[147963 rows x 12 columns]"
            ],
            "text/html": [
              "\n",
              "  <div id=\"df-4e1bcfea-5370-4bbd-a3ee-849a1a910dce\">\n",
              "    <div class=\"colab-df-container\">\n",
              "      <div>\n",
              "<style scoped>\n",
              "    .dataframe tbody tr th:only-of-type {\n",
              "        vertical-align: middle;\n",
              "    }\n",
              "\n",
              "    .dataframe tbody tr th {\n",
              "        vertical-align: top;\n",
              "    }\n",
              "\n",
              "    .dataframe thead th {\n",
              "        text-align: right;\n",
              "    }\n",
              "</style>\n",
              "<table border=\"1\" class=\"dataframe\">\n",
              "  <thead>\n",
              "    <tr style=\"text-align: right;\">\n",
              "      <th></th>\n",
              "      <th>Unnamed: 0</th>\n",
              "      <th>likes</th>\n",
              "      <th>feature_complexity</th>\n",
              "      <th>design_complexity</th>\n",
              "      <th>beach</th>\n",
              "      <th>cute_animals</th>\n",
              "      <th>face</th>\n",
              "      <th>followers</th>\n",
              "      <th>posts</th>\n",
              "      <th>time_of_day</th>\n",
              "      <th>season</th>\n",
              "      <th>caption_sentiment</th>\n",
              "    </tr>\n",
              "  </thead>\n",
              "  <tbody>\n",
              "    <tr>\n",
              "      <th>0</th>\n",
              "      <td>0</td>\n",
              "      <td>20</td>\n",
              "      <td>1.593168</td>\n",
              "      <td>0.980899</td>\n",
              "      <td>0.0</td>\n",
              "      <td>0.0</td>\n",
              "      <td>0.0</td>\n",
              "      <td>929.0</td>\n",
              "      <td>5.793014</td>\n",
              "      <td>afternoon</td>\n",
              "      <td>spring</td>\n",
              "      <td>-1.0</td>\n",
              "    </tr>\n",
              "    <tr>\n",
              "      <th>1</th>\n",
              "      <td>1</td>\n",
              "      <td>19</td>\n",
              "      <td>1.548011</td>\n",
              "      <td>0.896260</td>\n",
              "      <td>0.0</td>\n",
              "      <td>0.0</td>\n",
              "      <td>0.0</td>\n",
              "      <td>765.0</td>\n",
              "      <td>4.624973</td>\n",
              "      <td>afternoon</td>\n",
              "      <td>spring</td>\n",
              "      <td>2.0</td>\n",
              "    </tr>\n",
              "    <tr>\n",
              "      <th>2</th>\n",
              "      <td>2</td>\n",
              "      <td>476</td>\n",
              "      <td>1.499784</td>\n",
              "      <td>0.814901</td>\n",
              "      <td>0.0</td>\n",
              "      <td>0.0</td>\n",
              "      <td>0.0</td>\n",
              "      <td>94199.0</td>\n",
              "      <td>6.595781</td>\n",
              "      <td>afternoon</td>\n",
              "      <td>spring</td>\n",
              "      <td>1.0</td>\n",
              "    </tr>\n",
              "    <tr>\n",
              "      <th>3</th>\n",
              "      <td>3</td>\n",
              "      <td>1504</td>\n",
              "      <td>1.596202</td>\n",
              "      <td>0.726981</td>\n",
              "      <td>0.0</td>\n",
              "      <td>0.0</td>\n",
              "      <td>1.0</td>\n",
              "      <td>213389.0</td>\n",
              "      <td>6.161207</td>\n",
              "      <td>afternoon</td>\n",
              "      <td>spring</td>\n",
              "      <td>0.0</td>\n",
              "    </tr>\n",
              "    <tr>\n",
              "      <th>4</th>\n",
              "      <td>4</td>\n",
              "      <td>92</td>\n",
              "      <td>1.408038</td>\n",
              "      <td>0.436675</td>\n",
              "      <td>0.0</td>\n",
              "      <td>0.0</td>\n",
              "      <td>0.0</td>\n",
              "      <td>3728.0</td>\n",
              "      <td>6.192362</td>\n",
              "      <td>afternoon</td>\n",
              "      <td>spring</td>\n",
              "      <td>0.0</td>\n",
              "    </tr>\n",
              "    <tr>\n",
              "      <th>...</th>\n",
              "      <td>...</td>\n",
              "      <td>...</td>\n",
              "      <td>...</td>\n",
              "      <td>...</td>\n",
              "      <td>...</td>\n",
              "      <td>...</td>\n",
              "      <td>...</td>\n",
              "      <td>...</td>\n",
              "      <td>...</td>\n",
              "      <td>...</td>\n",
              "      <td>...</td>\n",
              "      <td>...</td>\n",
              "    </tr>\n",
              "    <tr>\n",
              "      <th>147958</th>\n",
              "      <td>147958</td>\n",
              "      <td>17</td>\n",
              "      <td>1.568694</td>\n",
              "      <td>0.738745</td>\n",
              "      <td>0.0</td>\n",
              "      <td>0.0</td>\n",
              "      <td>0.0</td>\n",
              "      <td>5426.0</td>\n",
              "      <td>6.787845</td>\n",
              "      <td>night</td>\n",
              "      <td>spring</td>\n",
              "      <td>0.0</td>\n",
              "    </tr>\n",
              "    <tr>\n",
              "      <th>147959</th>\n",
              "      <td>147959</td>\n",
              "      <td>14</td>\n",
              "      <td>1.677964</td>\n",
              "      <td>0.453014</td>\n",
              "      <td>0.0</td>\n",
              "      <td>0.0</td>\n",
              "      <td>0.0</td>\n",
              "      <td>1527.0</td>\n",
              "      <td>4.969813</td>\n",
              "      <td>night</td>\n",
              "      <td>spring</td>\n",
              "      <td>0.0</td>\n",
              "    </tr>\n",
              "    <tr>\n",
              "      <th>147960</th>\n",
              "      <td>147960</td>\n",
              "      <td>28</td>\n",
              "      <td>1.605179</td>\n",
              "      <td>0.455593</td>\n",
              "      <td>0.0</td>\n",
              "      <td>0.0</td>\n",
              "      <td>0.0</td>\n",
              "      <td>5426.0</td>\n",
              "      <td>6.787845</td>\n",
              "      <td>night</td>\n",
              "      <td>spring</td>\n",
              "      <td>0.0</td>\n",
              "    </tr>\n",
              "    <tr>\n",
              "      <th>147961</th>\n",
              "      <td>147961</td>\n",
              "      <td>321</td>\n",
              "      <td>1.615784</td>\n",
              "      <td>0.666149</td>\n",
              "      <td>0.0</td>\n",
              "      <td>0.0</td>\n",
              "      <td>1.0</td>\n",
              "      <td>36750.0</td>\n",
              "      <td>5.948035</td>\n",
              "      <td>night</td>\n",
              "      <td>spring</td>\n",
              "      <td>0.0</td>\n",
              "    </tr>\n",
              "    <tr>\n",
              "      <th>147962</th>\n",
              "      <td>147962</td>\n",
              "      <td>20</td>\n",
              "      <td>1.669432</td>\n",
              "      <td>0.607178</td>\n",
              "      <td>0.0</td>\n",
              "      <td>0.0</td>\n",
              "      <td>1.0</td>\n",
              "      <td>1673.0</td>\n",
              "      <td>6.642487</td>\n",
              "      <td>night</td>\n",
              "      <td>spring</td>\n",
              "      <td>0.0</td>\n",
              "    </tr>\n",
              "  </tbody>\n",
              "</table>\n",
              "<p>147963 rows × 12 columns</p>\n",
              "</div>\n",
              "      <button class=\"colab-df-convert\" onclick=\"convertToInteractive('df-4e1bcfea-5370-4bbd-a3ee-849a1a910dce')\"\n",
              "              title=\"Convert this dataframe to an interactive table.\"\n",
              "              style=\"display:none;\">\n",
              "        \n",
              "  <svg xmlns=\"http://www.w3.org/2000/svg\" height=\"24px\"viewBox=\"0 0 24 24\"\n",
              "       width=\"24px\">\n",
              "    <path d=\"M0 0h24v24H0V0z\" fill=\"none\"/>\n",
              "    <path d=\"M18.56 5.44l.94 2.06.94-2.06 2.06-.94-2.06-.94-.94-2.06-.94 2.06-2.06.94zm-11 1L8.5 8.5l.94-2.06 2.06-.94-2.06-.94L8.5 2.5l-.94 2.06-2.06.94zm10 10l.94 2.06.94-2.06 2.06-.94-2.06-.94-.94-2.06-.94 2.06-2.06.94z\"/><path d=\"M17.41 7.96l-1.37-1.37c-.4-.4-.92-.59-1.43-.59-.52 0-1.04.2-1.43.59L10.3 9.45l-7.72 7.72c-.78.78-.78 2.05 0 2.83L4 21.41c.39.39.9.59 1.41.59.51 0 1.02-.2 1.41-.59l7.78-7.78 2.81-2.81c.8-.78.8-2.07 0-2.86zM5.41 20L4 18.59l7.72-7.72 1.47 1.35L5.41 20z\"/>\n",
              "  </svg>\n",
              "      </button>\n",
              "      \n",
              "  <style>\n",
              "    .colab-df-container {\n",
              "      display:flex;\n",
              "      flex-wrap:wrap;\n",
              "      gap: 12px;\n",
              "    }\n",
              "\n",
              "    .colab-df-convert {\n",
              "      background-color: #E8F0FE;\n",
              "      border: none;\n",
              "      border-radius: 50%;\n",
              "      cursor: pointer;\n",
              "      display: none;\n",
              "      fill: #1967D2;\n",
              "      height: 32px;\n",
              "      padding: 0 0 0 0;\n",
              "      width: 32px;\n",
              "    }\n",
              "\n",
              "    .colab-df-convert:hover {\n",
              "      background-color: #E2EBFA;\n",
              "      box-shadow: 0px 1px 2px rgba(60, 64, 67, 0.3), 0px 1px 3px 1px rgba(60, 64, 67, 0.15);\n",
              "      fill: #174EA6;\n",
              "    }\n",
              "\n",
              "    [theme=dark] .colab-df-convert {\n",
              "      background-color: #3B4455;\n",
              "      fill: #D2E3FC;\n",
              "    }\n",
              "\n",
              "    [theme=dark] .colab-df-convert:hover {\n",
              "      background-color: #434B5C;\n",
              "      box-shadow: 0px 1px 3px 1px rgba(0, 0, 0, 0.15);\n",
              "      filter: drop-shadow(0px 1px 2px rgba(0, 0, 0, 0.3));\n",
              "      fill: #FFFFFF;\n",
              "    }\n",
              "  </style>\n",
              "\n",
              "      <script>\n",
              "        const buttonEl =\n",
              "          document.querySelector('#df-4e1bcfea-5370-4bbd-a3ee-849a1a910dce button.colab-df-convert');\n",
              "        buttonEl.style.display =\n",
              "          google.colab.kernel.accessAllowed ? 'block' : 'none';\n",
              "\n",
              "        async function convertToInteractive(key) {\n",
              "          const element = document.querySelector('#df-4e1bcfea-5370-4bbd-a3ee-849a1a910dce');\n",
              "          const dataTable =\n",
              "            await google.colab.kernel.invokeFunction('convertToInteractive',\n",
              "                                                     [key], {});\n",
              "          if (!dataTable) return;\n",
              "\n",
              "          const docLinkHtml = 'Like what you see? Visit the ' +\n",
              "            '<a target=\"_blank\" href=https://colab.research.google.com/notebooks/data_table.ipynb>data table notebook</a>'\n",
              "            + ' to learn more about interactive tables.';\n",
              "          element.innerHTML = '';\n",
              "          dataTable['output_type'] = 'display_data';\n",
              "          await google.colab.output.renderOutput(dataTable, element);\n",
              "          const docLink = document.createElement('div');\n",
              "          docLink.innerHTML = docLinkHtml;\n",
              "          element.appendChild(docLink);\n",
              "        }\n",
              "      </script>\n",
              "    </div>\n",
              "  </div>\n",
              "  "
            ]
          },
          "metadata": {},
          "execution_count": 5
        }
      ],
      "source": [
        "# David's path\n",
        "path2 = 'drive/MyDrive/Marketing Analytics/Data/instagram_data.csv'\n",
        "\n",
        "#read csv file\n",
        "df = pd.read_csv(path)\n",
        "df"
      ]
    },
    {
      "cell_type": "markdown",
      "source": [
        "### To correct the 'night' text in the season column"
      ],
      "metadata": {
        "id": "tRoXFy-ECSiC"
      }
    },
    {
      "cell_type": "code",
      "source": [
        "df['season'].unique()"
      ],
      "metadata": {
        "colab": {
          "base_uri": "https://localhost:8080/"
        },
        "id": "_Q80EIPoBcHX",
        "outputId": "c58ad3fc-de09-4a64-ff99-1051778b6389"
      },
      "execution_count": null,
      "outputs": [
        {
          "output_type": "execute_result",
          "data": {
            "text/plain": [
              "array(['spring', 'summer', 'night', 'winter'], dtype=object)"
            ]
          },
          "metadata": {},
          "execution_count": 6
        }
      ]
    },
    {
      "cell_type": "code",
      "source": [
        "df.loc[df['season'] == 'night', 'season'] = 'fall'"
      ],
      "metadata": {
        "id": "I8J-wYfqB_8v"
      },
      "execution_count": null,
      "outputs": []
    },
    {
      "cell_type": "code",
      "source": [
        "df['season'].unique()"
      ],
      "metadata": {
        "colab": {
          "base_uri": "https://localhost:8080/"
        },
        "id": "oEpT2Zw1CL5m",
        "outputId": "9b6f5ca1-69f1-418a-f04e-e09468818ade"
      },
      "execution_count": null,
      "outputs": [
        {
          "output_type": "execute_result",
          "data": {
            "text/plain": [
              "array(['spring', 'summer', 'fall', 'winter'], dtype=object)"
            ]
          },
          "metadata": {},
          "execution_count": 8
        }
      ]
    },
    {
      "cell_type": "markdown",
      "source": [
        "# Analyzing the Data"
      ],
      "metadata": {
        "id": "4mvUxMESiRyn"
      }
    },
    {
      "cell_type": "markdown",
      "source": [
        "## 1. Regression/Log Transformation of the Likes column\n",
        "\n",
        "Likes cannot be used for regression in its current due to it not being a normal distribution. Thus, we need to log transform the Likes variable.\n",
        "\n",
        "*To resolve the issue where we were unable to view the histogram due to our attempt to log transform the likes column due to values being 0 we decided to add a like to each posts like count to maintain the same distribution"
      ],
      "metadata": {
        "id": "H2nAbM0WGmSV"
      }
    },
    {
      "cell_type": "code",
      "source": [
        "df.likes.hist()"
      ],
      "metadata": {
        "colab": {
          "base_uri": "https://localhost:8080/",
          "height": 447
        },
        "id": "z3ZY3zoZ_qCi",
        "outputId": "8a47d753-2074-441a-b9c8-436980b98bb9"
      },
      "execution_count": null,
      "outputs": [
        {
          "output_type": "execute_result",
          "data": {
            "text/plain": [
              "<Axes: >"
            ]
          },
          "metadata": {},
          "execution_count": 9
        },
        {
          "output_type": "display_data",
          "data": {
            "text/plain": [
              "<Figure size 640x480 with 1 Axes>"
            ],
            "image/png": "[encoded data removed]"
          },
          "metadata": {}
        }
      ]
    },
    {
      "cell_type": "markdown",
      "source": [
        "Because the 'likes' column is not normally distributed, we have to log transform the data to even it out."
      ],
      "metadata": {
        "id": "MvduNiQxBGsE"
      }
    },
    {
      "cell_type": "code",
      "source": [
        "df.likes.map(lambda x: np.log(x+1)).hist()"
      ],
      "metadata": {
        "id": "tnxEAhyoBT0k",
        "colab": {
          "base_uri": "https://localhost:8080/",
          "height": 447
        },
        "outputId": "932bb1a2-08ab-4f93-d197-0f45162a17cd"
      },
      "execution_count": null,
      "outputs": [
        {
          "output_type": "execute_result",
          "data": {
            "text/plain": [
              "<Axes: >"
            ]
          },
          "metadata": {},
          "execution_count": 10
        },
        {
          "output_type": "display_data",
          "data": {
            "text/plain": [
              "<Figure size 640x480 with 1 Axes>"
            ],
            "image/png": "[encoded data removed]"
          },
          "metadata": {}
        }
      ]
    },
    {
      "cell_type": "markdown",
      "source": [
        "## 2. Scatter Plots and Correlation\n",
        "\n",
        "As observed in the below scatter plots, a Log-Log transformation is most applicable with this data. There is a strong, positive relationship between number of Likes and number of Followers. The correlation can also be characterized as significant due to the p-value being less than alpha."
      ],
      "metadata": {
        "id": "i0-qbDnzGrNc"
      }
    },
    {
      "cell_type": "code",
      "source": [
        "# linear-linear plot\n",
        "fig= plt.figure(figsize=(10,10))\n",
        "\n",
        "ax1 = fig.add_subplot(2,2,1)\n",
        "\n",
        "ax1.scatter(df['likes'], df['followers'])\n",
        "ax1.set_xlabel(\"Likes\")\n",
        "ax1.set_ylabel('Followers')\n",
        "\n",
        "# log-linear plot\n",
        "ax2 = fig.add_subplot(2,2,2)\n",
        "\n",
        "ax2.scatter(df['likes'], df['followers'])\n",
        "ax2.set_xscale(\"log\")\n",
        "ax2.set_xlabel(\"Likes\")\n",
        "ax2.set_ylabel('Followers')\n",
        "\n",
        "# linear-log plot\n",
        "ax3 = fig.add_subplot(2,2,3)\n",
        "\n",
        "ax3.scatter(df['likes'], df['followers'])\n",
        "ax3.set_yscale('log')\n",
        "ax3.set_xlabel(\"Likes\")\n",
        "ax3.set_ylabel('Followers')\n",
        "\n",
        "# log-log plot\n",
        "ax4 = fig.add_subplot(2,2,4)\n",
        "\n",
        "ax4.scatter(df['likes'], df['followers'])\n",
        "ax4.set_xscale(\"log\")\n",
        "ax4.set_yscale(\"log\")\n",
        "ax4.set_xlabel(\"Likes\")\n",
        "ax4.set_ylabel('Followers')\n",
        "\n",
        "\n",
        "plt.show()"
      ],
      "metadata": {
        "id": "FblpkO9MA8rQ",
        "colab": {
          "base_uri": "https://localhost:8080/",
          "height": 870
        },
        "outputId": "91146ccc-8f6a-438b-850a-d230f444945f"
      },
      "execution_count": null,
      "outputs": [
        {
          "output_type": "display_data",
          "data": {
            "text/plain": [
              "<Figure size 1000x1000 with 4 Axes>"
            ],
            "image/png": "[encoded data removed]"
          },
          "metadata": {}
        }
      ]
    },
    {
      "cell_type": "markdown",
      "source": [
        "The model that makes the most sense to use would be in plot 4, the log-log model. This model is the most linear, compared to all the other plots."
      ],
      "metadata": {
        "id": "a71LLTq4DhIu"
      }
    },
    {
      "cell_type": "markdown",
      "source": [
        "## 3. Dataframe Summary and Correlation\n",
        "\n",
        "High correlation significance for all variables except caption sentiment."
      ],
      "metadata": {
        "id": "41XRnxE_OpEk"
      }
    },
    {
      "cell_type": "code",
      "source": [
        "# to be used in step 4\n",
        "import statsmodels.formula.api as smf\n",
        "df['loglikes']= np.log(df['likes'] + 1)\n",
        "df['logfollowers'] = np.log(df['followers'] + 1)\n",
        "res = smf.ols('loglikes ~ logfollowers + feature_complexity + design_complexity + posts + caption_sentiment', data = df).fit()\n",
        "res.summary()"
      ],
      "metadata": {
        "id": "XDZb4lYjGqy-",
        "colab": {
          "base_uri": "https://localhost:8080/",
          "height": 528
        },
        "outputId": "eadfb526-ee26-4ae5-f557-a2fb9f36c7f9"
      },
      "execution_count": null,
      "outputs": [
        {
          "output_type": "execute_result",
          "data": {
            "text/plain": [
              "<class 'statsmodels.iolib.summary.Summary'>\n",
              "\"\"\"\n",
              "                            OLS Regression Results                            \n",
              "==============================================================================\n",
              "Dep. Variable:               loglikes   R-squared:                       0.862\n",
              "Model:                            OLS   Adj. R-squared:                  0.862\n",
              "Method:                 Least Squares   F-statistic:                 1.846e+05\n",
              "Date:                Tue, 09 May 2023   Prob (F-statistic):               0.00\n",
              "Time:                        19:11:52   Log-Likelihood:            -1.7952e+05\n",
              "No. Observations:              147963   AIC:                         3.591e+05\n",
              "Df Residuals:                  147957   BIC:                         3.591e+05\n",
              "Df Model:                           5                                         \n",
              "Covariance Type:            nonrobust                                         \n",
              "======================================================================================\n",
              "                         coef    std err          t      P>|t|      [0.025      0.975]\n",
              "--------------------------------------------------------------------------------------\n",
              "Intercept             -2.0523      0.018   -114.267      0.000      -2.087      -2.017\n",
              "logfollowers           0.9054      0.001    776.357      0.000       0.903       0.908\n",
              "feature_complexity     0.2091      0.008     25.390      0.000       0.193       0.225\n",
              "design_complexity     -0.0578      0.008     -7.271      0.000      -0.073      -0.042\n",
              "posts                 -0.2666      0.003    -91.178      0.000      -0.272      -0.261\n",
              "caption_sentiment      0.0045      0.002      2.158      0.031       0.000       0.009\n",
              "==============================================================================\n",
              "Omnibus:                     5184.323   Durbin-Watson:                   1.826\n",
              "Prob(Omnibus):                  0.000   Jarque-Bera (JB):             7313.538\n",
              "Skew:                          -0.364   Prob(JB):                         0.00\n",
              "Kurtosis:                       3.810   Cond. No.                         104.\n",
              "==============================================================================\n",
              "\n",
              "Notes:\n",
              "[1] Standard Errors assume that the covariance matrix of the errors is correctly specified.\n",
              "\"\"\""
            ],
            "text/html": [
              "<table class=\"simpletable\">\n",
              "<caption>OLS Regression Results</caption>\n",
              "<tr>\n",
              "  <th>Dep. Variable:</th>        <td>loglikes</td>     <th>  R-squared:         </th>  <td>   0.862</td>  \n",
              "</tr>\n",
              "<tr>\n",
              "  <th>Model:</th>                   <td>OLS</td>       <th>  Adj. R-squared:    </th>  <td>   0.862</td>  \n",
              "</tr>\n",
              "<tr>\n",
              "  <th>Method:</th>             <td>Least Squares</td>  <th>  F-statistic:       </th>  <td>1.846e+05</td> \n",
              "</tr>\n",
              "<tr>\n",
              "  <th>Date:</th>             <td>Tue, 09 May 2023</td> <th>  Prob (F-statistic):</th>   <td>  0.00</td>   \n",
              "</tr>\n",
              "<tr>\n",
              "  <th>Time:</th>                 <td>19:11:52</td>     <th>  Log-Likelihood:    </th> <td>-1.7952e+05</td>\n",
              "</tr>\n",
              "<tr>\n",
              "  <th>No. Observations:</th>      <td>147963</td>      <th>  AIC:               </th>  <td>3.591e+05</td> \n",
              "</tr>\n",
              "<tr>\n",
              "  <th>Df Residuals:</th>          <td>147957</td>      <th>  BIC:               </th>  <td>3.591e+05</td> \n",
              "</tr>\n",
              "<tr>\n",
              "  <th>Df Model:</th>              <td>     5</td>      <th>                     </th>      <td> </td>     \n",
              "</tr>\n",
              "<tr>\n",
              "  <th>Covariance Type:</th>      <td>nonrobust</td>    <th>                     </th>      <td> </td>     \n",
              "</tr>\n",
              "</table>\n",
              "<table class=\"simpletable\">\n",
              "<tr>\n",
              "           <td></td>             <th>coef</th>     <th>std err</th>      <th>t</th>      <th>P>|t|</th>  <th>[0.025</th>    <th>0.975]</th>  \n",
              "</tr>\n",
              "<tr>\n",
              "  <th>Intercept</th>          <td>   -2.0523</td> <td>    0.018</td> <td> -114.267</td> <td> 0.000</td> <td>   -2.087</td> <td>   -2.017</td>\n",
              "</tr>\n",
              "<tr>\n",
              "  <th>logfollowers</th>       <td>    0.9054</td> <td>    0.001</td> <td>  776.357</td> <td> 0.000</td> <td>    0.903</td> <td>    0.908</td>\n",
              "</tr>\n",
              "<tr>\n",
              "  <th>feature_complexity</th> <td>    0.2091</td> <td>    0.008</td> <td>   25.390</td> <td> 0.000</td> <td>    0.193</td> <td>    0.225</td>\n",
              "</tr>\n",
              "<tr>\n",
              "  <th>design_complexity</th>  <td>   -0.0578</td> <td>    0.008</td> <td>   -7.271</td> <td> 0.000</td> <td>   -0.073</td> <td>   -0.042</td>\n",
              "</tr>\n",
              "<tr>\n",
              "  <th>posts</th>              <td>   -0.2666</td> <td>    0.003</td> <td>  -91.178</td> <td> 0.000</td> <td>   -0.272</td> <td>   -0.261</td>\n",
              "</tr>\n",
              "<tr>\n",
              "  <th>caption_sentiment</th>  <td>    0.0045</td> <td>    0.002</td> <td>    2.158</td> <td> 0.031</td> <td>    0.000</td> <td>    0.009</td>\n",
              "</tr>\n",
              "</table>\n",
              "<table class=\"simpletable\">\n",
              "<tr>\n",
              "  <th>Omnibus:</th>       <td>5184.323</td> <th>  Durbin-Watson:     </th> <td>   1.826</td>\n",
              "</tr>\n",
              "<tr>\n",
              "  <th>Prob(Omnibus):</th>  <td> 0.000</td>  <th>  Jarque-Bera (JB):  </th> <td>7313.538</td>\n",
              "</tr>\n",
              "<tr>\n",
              "  <th>Skew:</th>           <td>-0.364</td>  <th>  Prob(JB):          </th> <td>    0.00</td>\n",
              "</tr>\n",
              "<tr>\n",
              "  <th>Kurtosis:</th>       <td> 3.810</td>  <th>  Cond. No.          </th> <td>    104.</td>\n",
              "</tr>\n",
              "</table><br/><br/>Notes:<br/>[1] Standard Errors assume that the covariance matrix of the errors is correctly specified."
            ]
          },
          "metadata": {},
          "execution_count": 12
        }
      ]
    },
    {
      "cell_type": "markdown",
      "source": [
        "## 4. Multiple Regression\n",
        "\n",
        "Observations:\n",
        "- All of the predictor variables have a significant correlation.\n",
        "- The higher the feature complexity, the higher the number of likes. Same with number of followers, opposite with design complexity.\n",
        "- The r-squared is 85.4%, so this is a pretty solid model.\n",
        "- The relationship between likes and followers based on the regular coefficient suggests that for each percentage increase in followers there is a .84 percent increase in likes, on average."
      ],
      "metadata": {
        "id": "W6sv1vtXRCyO"
      }
    },
    {
      "cell_type": "code",
      "source": [
        "import statsmodels.formula.api as smf\n",
        "df['loglikes']= np.log(df['likes'] + 1)\n",
        "df['logfollowers'] = np.log(df['followers'] + 1)\n",
        "res = smf.ols('loglikes ~ feature_complexity + design_complexity + logfollowers', data = df).fit()\n",
        "res.summary()"
      ],
      "metadata": {
        "id": "5aXgZULdRCGe",
        "colab": {
          "base_uri": "https://localhost:8080/",
          "height": 486
        },
        "outputId": "0f8680a8-915e-46b8-c471-7bd73b4ead36"
      },
      "execution_count": null,
      "outputs": [
        {
          "output_type": "execute_result",
          "data": {
            "text/plain": [
              "<class 'statsmodels.iolib.summary.Summary'>\n",
              "\"\"\"\n",
              "                            OLS Regression Results                            \n",
              "==============================================================================\n",
              "Dep. Variable:               loglikes   R-squared:                       0.854\n",
              "Model:                            OLS   Adj. R-squared:                  0.854\n",
              "Method:                 Least Squares   F-statistic:                 2.887e+05\n",
              "Date:                Tue, 09 May 2023   Prob (F-statistic):               0.00\n",
              "Time:                        19:11:52   Log-Likelihood:            -1.8357e+05\n",
              "No. Observations:              147963   AIC:                         3.671e+05\n",
              "Df Residuals:                  147959   BIC:                         3.672e+05\n",
              "Df Model:                           3                                         \n",
              "Covariance Type:            nonrobust                                         \n",
              "======================================================================================\n",
              "                         coef    std err          t      P>|t|      [0.025      0.975]\n",
              "--------------------------------------------------------------------------------------\n",
              "Intercept             -2.9647      0.015   -194.128      0.000      -2.995      -2.935\n",
              "feature_complexity     0.1910      0.008     22.580      0.000       0.174       0.208\n",
              "design_complexity     -0.0860      0.008    -10.541      0.000      -0.102      -0.070\n",
              "logfollowers           0.8362      0.001    918.770      0.000       0.834       0.838\n",
              "==============================================================================\n",
              "Omnibus:                     4486.534   Durbin-Watson:                   1.805\n",
              "Prob(Omnibus):                  0.000   Jarque-Bera (JB):             7318.575\n",
              "Skew:                          -0.283   Prob(JB):                         0.00\n",
              "Kurtosis:                       3.931   Cond. No.                         76.8\n",
              "==============================================================================\n",
              "\n",
              "Notes:\n",
              "[1] Standard Errors assume that the covariance matrix of the errors is correctly specified.\n",
              "\"\"\""
            ],
            "text/html": [
              "<table class=\"simpletable\">\n",
              "<caption>OLS Regression Results</caption>\n",
              "<tr>\n",
              "  <th>Dep. Variable:</th>        <td>loglikes</td>     <th>  R-squared:         </th>  <td>   0.854</td>  \n",
              "</tr>\n",
              "<tr>\n",
              "  <th>Model:</th>                   <td>OLS</td>       <th>  Adj. R-squared:    </th>  <td>   0.854</td>  \n",
              "</tr>\n",
              "<tr>\n",
              "  <th>Method:</th>             <td>Least Squares</td>  <th>  F-statistic:       </th>  <td>2.887e+05</td> \n",
              "</tr>\n",
              "<tr>\n",
              "  <th>Date:</th>             <td>Tue, 09 May 2023</td> <th>  Prob (F-statistic):</th>   <td>  0.00</td>   \n",
              "</tr>\n",
              "<tr>\n",
              "  <th>Time:</th>                 <td>19:11:52</td>     <th>  Log-Likelihood:    </th> <td>-1.8357e+05</td>\n",
              "</tr>\n",
              "<tr>\n",
              "  <th>No. Observations:</th>      <td>147963</td>      <th>  AIC:               </th>  <td>3.671e+05</td> \n",
              "</tr>\n",
              "<tr>\n",
              "  <th>Df Residuals:</th>          <td>147959</td>      <th>  BIC:               </th>  <td>3.672e+05</td> \n",
              "</tr>\n",
              "<tr>\n",
              "  <th>Df Model:</th>              <td>     3</td>      <th>                     </th>      <td> </td>     \n",
              "</tr>\n",
              "<tr>\n",
              "  <th>Covariance Type:</th>      <td>nonrobust</td>    <th>                     </th>      <td> </td>     \n",
              "</tr>\n",
              "</table>\n",
              "<table class=\"simpletable\">\n",
              "<tr>\n",
              "           <td></td>             <th>coef</th>     <th>std err</th>      <th>t</th>      <th>P>|t|</th>  <th>[0.025</th>    <th>0.975]</th>  \n",
              "</tr>\n",
              "<tr>\n",
              "  <th>Intercept</th>          <td>   -2.9647</td> <td>    0.015</td> <td> -194.128</td> <td> 0.000</td> <td>   -2.995</td> <td>   -2.935</td>\n",
              "</tr>\n",
              "<tr>\n",
              "  <th>feature_complexity</th> <td>    0.1910</td> <td>    0.008</td> <td>   22.580</td> <td> 0.000</td> <td>    0.174</td> <td>    0.208</td>\n",
              "</tr>\n",
              "<tr>\n",
              "  <th>design_complexity</th>  <td>   -0.0860</td> <td>    0.008</td> <td>  -10.541</td> <td> 0.000</td> <td>   -0.102</td> <td>   -0.070</td>\n",
              "</tr>\n",
              "<tr>\n",
              "  <th>logfollowers</th>       <td>    0.8362</td> <td>    0.001</td> <td>  918.770</td> <td> 0.000</td> <td>    0.834</td> <td>    0.838</td>\n",
              "</tr>\n",
              "</table>\n",
              "<table class=\"simpletable\">\n",
              "<tr>\n",
              "  <th>Omnibus:</th>       <td>4486.534</td> <th>  Durbin-Watson:     </th> <td>   1.805</td>\n",
              "</tr>\n",
              "<tr>\n",
              "  <th>Prob(Omnibus):</th>  <td> 0.000</td>  <th>  Jarque-Bera (JB):  </th> <td>7318.575</td>\n",
              "</tr>\n",
              "<tr>\n",
              "  <th>Skew:</th>           <td>-0.283</td>  <th>  Prob(JB):          </th> <td>    0.00</td>\n",
              "</tr>\n",
              "<tr>\n",
              "  <th>Kurtosis:</th>       <td> 3.931</td>  <th>  Cond. No.          </th> <td>    76.8</td>\n",
              "</tr>\n",
              "</table><br/><br/>Notes:<br/>[1] Standard Errors assume that the covariance matrix of the errors is correctly specified."
            ]
          },
          "metadata": {},
          "execution_count": 13
        }
      ]
    },
    {
      "cell_type": "markdown",
      "source": [
        "## 5. Dummy Variables\n",
        "\n",
        "Since both 'Time of Day' and 'Season' variables have four categories, we are able to create 8 total variables, 4 for each. In the regression formula we leave one out so that we can interpret the coefficients relative to the omitted category."
      ],
      "metadata": {
        "id": "CBRuzKwphvV9"
      }
    },
    {
      "cell_type": "code",
      "source": [
        "newdf = pd.get_dummies(df, columns = ['time_of_day', 'season'])"
      ],
      "metadata": {
        "id": "jPFuJD_KhuXN"
      },
      "execution_count": null,
      "outputs": []
    },
    {
      "cell_type": "code",
      "source": [
        "newdf"
      ],
      "metadata": {
        "colab": {
          "base_uri": "https://localhost:8080/",
          "height": 500
        },
        "id": "-d-KoZEl3MBH",
        "outputId": "381c3462-7fee-438e-b016-b2e41e6167a3"
      },
      "execution_count": null,
      "outputs": [
        {
          "output_type": "execute_result",
          "data": {
            "text/plain": [
              "        Unnamed: 0  likes  feature_complexity  design_complexity  beach  \\\n",
              "0                0     20            1.593168           0.980899    0.0   \n",
              "1                1     19            1.548011           0.896260    0.0   \n",
              "2                2    476            1.499784           0.814901    0.0   \n",
              "3                3   1504            1.596202           0.726981    0.0   \n",
              "4                4     92            1.408038           0.436675    0.0   \n",
              "...            ...    ...                 ...                ...    ...   \n",
              "147958      147958     17            1.568694           0.738745    0.0   \n",
              "147959      147959     14            1.677964           0.453014    0.0   \n",
              "147960      147960     28            1.605179           0.455593    0.0   \n",
              "147961      147961    321            1.615784           0.666149    0.0   \n",
              "147962      147962     20            1.669432           0.607178    0.0   \n",
              "\n",
              "        cute_animals  face  followers     posts  caption_sentiment  loglikes  \\\n",
              "0                0.0   0.0      929.0  5.793014               -1.0  3.044522   \n",
              "1                0.0   0.0      765.0  4.624973                2.0  2.995732   \n",
              "2                0.0   0.0    94199.0  6.595781                1.0  6.167516   \n",
              "3                0.0   1.0   213389.0  6.161207                0.0  7.316548   \n",
              "4                0.0   0.0     3728.0  6.192362                0.0  4.532599   \n",
              "...              ...   ...        ...       ...                ...       ...   \n",
              "147958           0.0   0.0     5426.0  6.787845                0.0  2.890372   \n",
              "147959           0.0   0.0     1527.0  4.969813                0.0  2.708050   \n",
              "147960           0.0   0.0     5426.0  6.787845                0.0  3.367296   \n",
              "147961           0.0   1.0    36750.0  5.948035                0.0  5.774552   \n",
              "147962           0.0   1.0     1673.0  6.642487                0.0  3.044522   \n",
              "\n",
              "        logfollowers  time_of_day_afternoon  time_of_day_evening  \\\n",
              "0           6.835185                      1                    0   \n",
              "1           6.641182                      1                    0   \n",
              "2          11.453175                      1                    0   \n",
              "3          12.270877                      1                    0   \n",
              "4           8.223895                      1                    0   \n",
              "...              ...                    ...                  ...   \n",
              "147958      8.599142                      0                    0   \n",
              "147959      7.331715                      0                    0   \n",
              "147960      8.599142                      0                    0   \n",
              "147961     10.511921                      0                    0   \n",
              "147962      7.422971                      0                    0   \n",
              "\n",
              "        time_of_day_morning  time_of_day_night  season_fall  season_spring  \\\n",
              "0                         0                  0            0              1   \n",
              "1                         0                  0            0              1   \n",
              "2                         0                  0            0              1   \n",
              "3                         0                  0            0              1   \n",
              "4                         0                  0            0              1   \n",
              "...                     ...                ...          ...            ...   \n",
              "147958                    0                  1            0              1   \n",
              "147959                    0                  1            0              1   \n",
              "147960                    0                  1            0              1   \n",
              "147961                    0                  1            0              1   \n",
              "147962                    0                  1            0              1   \n",
              "\n",
              "        season_summer  season_winter  \n",
              "0                   0              0  \n",
              "1                   0              0  \n",
              "2                   0              0  \n",
              "3                   0              0  \n",
              "4                   0              0  \n",
              "...               ...            ...  \n",
              "147958              0              0  \n",
              "147959              0              0  \n",
              "147960              0              0  \n",
              "147961              0              0  \n",
              "147962              0              0  \n",
              "\n",
              "[147963 rows x 20 columns]"
            ],
            "text/html": [
              "\n",
              "  <div id=\"df-ff96aff8-78e9-4350-b12b-024ca635d85a\">\n",
              "    <div class=\"colab-df-container\">\n",
              "      <div>\n",
              "<style scoped>\n",
              "    .dataframe tbody tr th:only-of-type {\n",
              "        vertical-align: middle;\n",
              "    }\n",
              "\n",
              "    .dataframe tbody tr th {\n",
              "        vertical-align: top;\n",
              "    }\n",
              "\n",
              "    .dataframe thead th {\n",
              "        text-align: right;\n",
              "    }\n",
              "</style>\n",
              "<table border=\"1\" class=\"dataframe\">\n",
              "  <thead>\n",
              "    <tr style=\"text-align: right;\">\n",
              "      <th></th>\n",
              "      <th>Unnamed: 0</th>\n",
              "      <th>likes</th>\n",
              "      <th>feature_complexity</th>\n",
              "      <th>design_complexity</th>\n",
              "      <th>beach</th>\n",
              "      <th>cute_animals</th>\n",
              "      <th>face</th>\n",
              "      <th>followers</th>\n",
              "      <th>posts</th>\n",
              "      <th>caption_sentiment</th>\n",
              "      <th>loglikes</th>\n",
              "      <th>logfollowers</th>\n",
              "      <th>time_of_day_afternoon</th>\n",
              "      <th>time_of_day_evening</th>\n",
              "      <th>time_of_day_morning</th>\n",
              "      <th>time_of_day_night</th>\n",
              "      <th>season_fall</th>\n",
              "      <th>season_spring</th>\n",
              "      <th>season_summer</th>\n",
              "      <th>season_winter</th>\n",
              "    </tr>\n",
              "  </thead>\n",
              "  <tbody>\n",
              "    <tr>\n",
              "      <th>0</th>\n",
              "      <td>0</td>\n",
              "      <td>20</td>\n",
              "      <td>1.593168</td>\n",
              "      <td>0.980899</td>\n",
              "      <td>0.0</td>\n",
              "      <td>0.0</td>\n",
              "      <td>0.0</td>\n",
              "      <td>929.0</td>\n",
              "      <td>5.793014</td>\n",
              "      <td>-1.0</td>\n",
              "      <td>3.044522</td>\n",
              "      <td>6.835185</td>\n",
              "      <td>1</td>\n",
              "      <td>0</td>\n",
              "      <td>0</td>\n",
              "      <td>0</td>\n",
              "      <td>0</td>\n",
              "      <td>1</td>\n",
              "      <td>0</td>\n",
              "      <td>0</td>\n",
              "    </tr>\n",
              "    <tr>\n",
              "      <th>1</th>\n",
              "      <td>1</td>\n",
              "      <td>19</td>\n",
              "      <td>1.548011</td>\n",
              "      <td>0.896260</td>\n",
              "      <td>0.0</td>\n",
              "      <td>0.0</td>\n",
              "      <td>0.0</td>\n",
              "      <td>765.0</td>\n",
              "      <td>4.624973</td>\n",
              "      <td>2.0</td>\n",
              "      <td>2.995732</td>\n",
              "      <td>6.641182</td>\n",
              "      <td>1</td>\n",
              "      <td>0</td>\n",
              "      <td>0</td>\n",
              "      <td>0</td>\n",
              "      <td>0</td>\n",
              "      <td>1</td>\n",
              "      <td>0</td>\n",
              "      <td>0</td>\n",
              "    </tr>\n",
              "    <tr>\n",
              "      <th>2</th>\n",
              "      <td>2</td>\n",
              "      <td>476</td>\n",
              "      <td>1.499784</td>\n",
              "      <td>0.814901</td>\n",
              "      <td>0.0</td>\n",
              "      <td>0.0</td>\n",
              "      <td>0.0</td>\n",
              "      <td>94199.0</td>\n",
              "      <td>6.595781</td>\n",
              "      <td>1.0</td>\n",
              "      <td>6.167516</td>\n",
              "      <td>11.453175</td>\n",
              "      <td>1</td>\n",
              "      <td>0</td>\n",
              "      <td>0</td>\n",
              "      <td>0</td>\n",
              "      <td>0</td>\n",
              "      <td>1</td>\n",
              "      <td>0</td>\n",
              "      <td>0</td>\n",
              "    </tr>\n",
              "    <tr>\n",
              "      <th>3</th>\n",
              "      <td>3</td>\n",
              "      <td>1504</td>\n",
              "      <td>1.596202</td>\n",
              "      <td>0.726981</td>\n",
              "      <td>0.0</td>\n",
              "      <td>0.0</td>\n",
              "      <td>1.0</td>\n",
              "      <td>213389.0</td>\n",
              "      <td>6.161207</td>\n",
              "      <td>0.0</td>\n",
              "      <td>7.316548</td>\n",
              "      <td>12.270877</td>\n",
              "      <td>1</td>\n",
              "      <td>0</td>\n",
              "      <td>0</td>\n",
              "      <td>0</td>\n",
              "      <td>0</td>\n",
              "      <td>1</td>\n",
              "      <td>0</td>\n",
              "      <td>0</td>\n",
              "    </tr>\n",
              "    <tr>\n",
              "      <th>4</th>\n",
              "      <td>4</td>\n",
              "      <td>92</td>\n",
              "      <td>1.408038</td>\n",
              "      <td>0.436675</td>\n",
              "      <td>0.0</td>\n",
              "      <td>0.0</td>\n",
              "      <td>0.0</td>\n",
              "      <td>3728.0</td>\n",
              "      <td>6.192362</td>\n",
              "      <td>0.0</td>\n",
              "      <td>4.532599</td>\n",
              "      <td>8.223895</td>\n",
              "      <td>1</td>\n",
              "      <td>0</td>\n",
              "      <td>0</td>\n",
              "      <td>0</td>\n",
              "      <td>0</td>\n",
              "      <td>1</td>\n",
              "      <td>0</td>\n",
              "      <td>0</td>\n",
              "    </tr>\n",
              "    <tr>\n",
              "      <th>...</th>\n",
              "      <td>...</td>\n",
              "      <td>...</td>\n",
              "      <td>...</td>\n",
              "      <td>...</td>\n",
              "      <td>...</td>\n",
              "      <td>...</td>\n",
              "      <td>...</td>\n",
              "      <td>...</td>\n",
              "      <td>...</td>\n",
              "      <td>...</td>\n",
              "      <td>...</td>\n",
              "      <td>...</td>\n",
              "      <td>...</td>\n",
              "      <td>...</td>\n",
              "      <td>...</td>\n",
              "      <td>...</td>\n",
              "      <td>...</td>\n",
              "      <td>...</td>\n",
              "      <td>...</td>\n",
              "      <td>...</td>\n",
              "    </tr>\n",
              "    <tr>\n",
              "      <th>147958</th>\n",
              "      <td>147958</td>\n",
              "      <td>17</td>\n",
              "      <td>1.568694</td>\n",
              "      <td>0.738745</td>\n",
              "      <td>0.0</td>\n",
              "      <td>0.0</td>\n",
              "      <td>0.0</td>\n",
              "      <td>5426.0</td>\n",
              "      <td>6.787845</td>\n",
              "      <td>0.0</td>\n",
              "      <td>2.890372</td>\n",
              "      <td>8.599142</td>\n",
              "      <td>0</td>\n",
              "      <td>0</td>\n",
              "      <td>0</td>\n",
              "      <td>1</td>\n",
              "      <td>0</td>\n",
              "      <td>1</td>\n",
              "      <td>0</td>\n",
              "      <td>0</td>\n",
              "    </tr>\n",
              "    <tr>\n",
              "      <th>147959</th>\n",
              "      <td>147959</td>\n",
              "      <td>14</td>\n",
              "      <td>1.677964</td>\n",
              "      <td>0.453014</td>\n",
              "      <td>0.0</td>\n",
              "      <td>0.0</td>\n",
              "      <td>0.0</td>\n",
              "      <td>1527.0</td>\n",
              "      <td>4.969813</td>\n",
              "      <td>0.0</td>\n",
              "      <td>2.708050</td>\n",
              "      <td>7.331715</td>\n",
              "      <td>0</td>\n",
              "      <td>0</td>\n",
              "      <td>0</td>\n",
              "      <td>1</td>\n",
              "      <td>0</td>\n",
              "      <td>1</td>\n",
              "      <td>0</td>\n",
              "      <td>0</td>\n",
              "    </tr>\n",
              "    <tr>\n",
              "      <th>147960</th>\n",
              "      <td>147960</td>\n",
              "      <td>28</td>\n",
              "      <td>1.605179</td>\n",
              "      <td>0.455593</td>\n",
              "      <td>0.0</td>\n",
              "      <td>0.0</td>\n",
              "      <td>0.0</td>\n",
              "      <td>5426.0</td>\n",
              "      <td>6.787845</td>\n",
              "      <td>0.0</td>\n",
              "      <td>3.367296</td>\n",
              "      <td>8.599142</td>\n",
              "      <td>0</td>\n",
              "      <td>0</td>\n",
              "      <td>0</td>\n",
              "      <td>1</td>\n",
              "      <td>0</td>\n",
              "      <td>1</td>\n",
              "      <td>0</td>\n",
              "      <td>0</td>\n",
              "    </tr>\n",
              "    <tr>\n",
              "      <th>147961</th>\n",
              "      <td>147961</td>\n",
              "      <td>321</td>\n",
              "      <td>1.615784</td>\n",
              "      <td>0.666149</td>\n",
              "      <td>0.0</td>\n",
              "      <td>0.0</td>\n",
              "      <td>1.0</td>\n",
              "      <td>36750.0</td>\n",
              "      <td>5.948035</td>\n",
              "      <td>0.0</td>\n",
              "      <td>5.774552</td>\n",
              "      <td>10.511921</td>\n",
              "      <td>0</td>\n",
              "      <td>0</td>\n",
              "      <td>0</td>\n",
              "      <td>1</td>\n",
              "      <td>0</td>\n",
              "      <td>1</td>\n",
              "      <td>0</td>\n",
              "      <td>0</td>\n",
              "    </tr>\n",
              "    <tr>\n",
              "      <th>147962</th>\n",
              "      <td>147962</td>\n",
              "      <td>20</td>\n",
              "      <td>1.669432</td>\n",
              "      <td>0.607178</td>\n",
              "      <td>0.0</td>\n",
              "      <td>0.0</td>\n",
              "      <td>1.0</td>\n",
              "      <td>1673.0</td>\n",
              "      <td>6.642487</td>\n",
              "      <td>0.0</td>\n",
              "      <td>3.044522</td>\n",
              "      <td>7.422971</td>\n",
              "      <td>0</td>\n",
              "      <td>0</td>\n",
              "      <td>0</td>\n",
              "      <td>1</td>\n",
              "      <td>0</td>\n",
              "      <td>1</td>\n",
              "      <td>0</td>\n",
              "      <td>0</td>\n",
              "    </tr>\n",
              "  </tbody>\n",
              "</table>\n",
              "<p>147963 rows × 20 columns</p>\n",
              "</div>\n",
              "      <button class=\"colab-df-convert\" onclick=\"convertToInteractive('df-ff96aff8-78e9-4350-b12b-024ca635d85a')\"\n",
              "              title=\"Convert this dataframe to an interactive table.\"\n",
              "              style=\"display:none;\">\n",
              "        \n",
              "  <svg xmlns=\"http://www.w3.org/2000/svg\" height=\"24px\"viewBox=\"0 0 24 24\"\n",
              "       width=\"24px\">\n",
              "    <path d=\"M0 0h24v24H0V0z\" fill=\"none\"/>\n",
              "    <path d=\"M18.56 5.44l.94 2.06.94-2.06 2.06-.94-2.06-.94-.94-2.06-.94 2.06-2.06.94zm-11 1L8.5 8.5l.94-2.06 2.06-.94-2.06-.94L8.5 2.5l-.94 2.06-2.06.94zm10 10l.94 2.06.94-2.06 2.06-.94-2.06-.94-.94-2.06-.94 2.06-2.06.94z\"/><path d=\"M17.41 7.96l-1.37-1.37c-.4-.4-.92-.59-1.43-.59-.52 0-1.04.2-1.43.59L10.3 9.45l-7.72 7.72c-.78.78-.78 2.05 0 2.83L4 21.41c.39.39.9.59 1.41.59.51 0 1.02-.2 1.41-.59l7.78-7.78 2.81-2.81c.8-.78.8-2.07 0-2.86zM5.41 20L4 18.59l7.72-7.72 1.47 1.35L5.41 20z\"/>\n",
              "  </svg>\n",
              "      </button>\n",
              "      \n",
              "  <style>\n",
              "    .colab-df-container {\n",
              "      display:flex;\n",
              "      flex-wrap:wrap;\n",
              "      gap: 12px;\n",
              "    }\n",
              "\n",
              "    .colab-df-convert {\n",
              "      background-color: #E8F0FE;\n",
              "      border: none;\n",
              "      border-radius: 50%;\n",
              "      cursor: pointer;\n",
              "      display: none;\n",
              "      fill: #1967D2;\n",
              "      height: 32px;\n",
              "      padding: 0 0 0 0;\n",
              "      width: 32px;\n",
              "    }\n",
              "\n",
              "    .colab-df-convert:hover {\n",
              "      background-color: #E2EBFA;\n",
              "      box-shadow: 0px 1px 2px rgba(60, 64, 67, 0.3), 0px 1px 3px 1px rgba(60, 64, 67, 0.15);\n",
              "      fill: #174EA6;\n",
              "    }\n",
              "\n",
              "    [theme=dark] .colab-df-convert {\n",
              "      background-color: #3B4455;\n",
              "      fill: #D2E3FC;\n",
              "    }\n",
              "\n",
              "    [theme=dark] .colab-df-convert:hover {\n",
              "      background-color: #434B5C;\n",
              "      box-shadow: 0px 1px 3px 1px rgba(0, 0, 0, 0.15);\n",
              "      filter: drop-shadow(0px 1px 2px rgba(0, 0, 0, 0.3));\n",
              "      fill: #FFFFFF;\n",
              "    }\n",
              "  </style>\n",
              "\n",
              "      <script>\n",
              "        const buttonEl =\n",
              "          document.querySelector('#df-ff96aff8-78e9-4350-b12b-024ca635d85a button.colab-df-convert');\n",
              "        buttonEl.style.display =\n",
              "          google.colab.kernel.accessAllowed ? 'block' : 'none';\n",
              "\n",
              "        async function convertToInteractive(key) {\n",
              "          const element = document.querySelector('#df-ff96aff8-78e9-4350-b12b-024ca635d85a');\n",
              "          const dataTable =\n",
              "            await google.colab.kernel.invokeFunction('convertToInteractive',\n",
              "                                                     [key], {});\n",
              "          if (!dataTable) return;\n",
              "\n",
              "          const docLinkHtml = 'Like what you see? Visit the ' +\n",
              "            '<a target=\"_blank\" href=https://colab.research.google.com/notebooks/data_table.ipynb>data table notebook</a>'\n",
              "            + ' to learn more about interactive tables.';\n",
              "          element.innerHTML = '';\n",
              "          dataTable['output_type'] = 'display_data';\n",
              "          await google.colab.output.renderOutput(dataTable, element);\n",
              "          const docLink = document.createElement('div');\n",
              "          docLink.innerHTML = docLinkHtml;\n",
              "          element.appendChild(docLink);\n",
              "        }\n",
              "      </script>\n",
              "    </div>\n",
              "  </div>\n",
              "  "
            ]
          },
          "metadata": {},
          "execution_count": 15
        }
      ]
    },
    {
      "cell_type": "markdown",
      "source": [
        "## 6. Expanded Regression\n",
        "\n",
        "Observations:\n",
        "\n",
        "- The new regression explains much more of the loglikes variable than the regression in the previous step, with an R-squared of 30.2%.\n",
        "- If the post is made during the evening, there will be a 0.253% increase in likes as compared to if the post was made during the afternoon, on average.\n",
        "- For each additional post that is made on the account, there will be 1.23% percent more likes, on average."
      ],
      "metadata": {
        "id": "Hjit3pEJkqir"
      }
    },
    {
      "cell_type": "markdown",
      "source": [
        "We manually created dummy variables for both time of day and season by including a \"C\" and parenthesis around both column names."
      ],
      "metadata": {
        "id": "E2tVVbw1P2k1"
      }
    },
    {
      "cell_type": "code",
      "source": [
        "res = smf.ols('loglikes ~ C(time_of_day) + C(season) + posts + caption_sentiment + beach + cute_animals + face', data = df).fit()\n",
        "res.summary()"
      ],
      "metadata": {
        "colab": {
          "base_uri": "https://localhost:8080/",
          "height": 654
        },
        "id": "duVX0AO_PhHE",
        "outputId": "05dda5f5-248c-4b8c-f0fa-4000902d2d99"
      },
      "execution_count": null,
      "outputs": [
        {
          "output_type": "execute_result",
          "data": {
            "text/plain": [
              "<class 'statsmodels.iolib.summary.Summary'>\n",
              "\"\"\"\n",
              "                            OLS Regression Results                            \n",
              "==============================================================================\n",
              "Dep. Variable:               loglikes   R-squared:                       0.302\n",
              "Model:                            OLS   Adj. R-squared:                  0.302\n",
              "Method:                 Least Squares   F-statistic:                     5809.\n",
              "Date:                Tue, 09 May 2023   Prob (F-statistic):               0.00\n",
              "Time:                        19:11:53   Log-Likelihood:            -2.9941e+05\n",
              "No. Observations:              147963   AIC:                         5.988e+05\n",
              "Df Residuals:                  147951   BIC:                         5.990e+05\n",
              "Df Model:                          11                                         \n",
              "Covariance Type:            nonrobust                                         \n",
              "=============================================================================================\n",
              "                                coef    std err          t      P>|t|      [0.025      0.975]\n",
              "---------------------------------------------------------------------------------------------\n",
              "Intercept                    -2.3509      0.033    -71.868      0.000      -2.415      -2.287\n",
              "C(time_of_day)[T.evening]     0.2530      0.012     21.926      0.000       0.230       0.276\n",
              "C(time_of_day)[T.morning]    -0.2960      0.016    -18.471      0.000      -0.327      -0.265\n",
              "C(time_of_day)[T.night]       0.3471      0.014     24.669      0.000       0.319       0.375\n",
              "C(season)[T.spring]           0.0468      0.017      2.699      0.007       0.013       0.081\n",
              "C(season)[T.summer]          -0.1714      0.012    -14.403      0.000      -0.195      -0.148\n",
              "C(season)[T.winter]           0.2565      0.013     20.441      0.000       0.232       0.281\n",
              "posts                         1.2315      0.005    243.900      0.000       1.222       1.241\n",
              "caption_sentiment             0.0056      0.005      1.207      0.228      -0.004       0.015\n",
              "beach                         0.4952      0.047     10.589      0.000       0.404       0.587\n",
              "cute_animals                 -0.0103      0.058     -0.177      0.860      -0.125       0.104\n",
              "face                         -0.0783      0.011     -7.116      0.000      -0.100      -0.057\n",
              "==============================================================================\n",
              "Omnibus:                     1176.104   Durbin-Watson:                   1.889\n",
              "Prob(Omnibus):                  0.000   Jarque-Bera (JB):             1353.831\n",
              "Skew:                           0.168   Prob(JB):                    1.05e-294\n",
              "Kurtosis:                       3.327   Cond. No.                         77.1\n",
              "==============================================================================\n",
              "\n",
              "Notes:\n",
              "[1] Standard Errors assume that the covariance matrix of the errors is correctly specified.\n",
              "\"\"\""
            ],
            "text/html": [
              "<table class=\"simpletable\">\n",
              "<caption>OLS Regression Results</caption>\n",
              "<tr>\n",
              "  <th>Dep. Variable:</th>        <td>loglikes</td>     <th>  R-squared:         </th>  <td>   0.302</td>  \n",
              "</tr>\n",
              "<tr>\n",
              "  <th>Model:</th>                   <td>OLS</td>       <th>  Adj. R-squared:    </th>  <td>   0.302</td>  \n",
              "</tr>\n",
              "<tr>\n",
              "  <th>Method:</th>             <td>Least Squares</td>  <th>  F-statistic:       </th>  <td>   5809.</td>  \n",
              "</tr>\n",
              "<tr>\n",
              "  <th>Date:</th>             <td>Tue, 09 May 2023</td> <th>  Prob (F-statistic):</th>   <td>  0.00</td>   \n",
              "</tr>\n",
              "<tr>\n",
              "  <th>Time:</th>                 <td>19:11:53</td>     <th>  Log-Likelihood:    </th> <td>-2.9941e+05</td>\n",
              "</tr>\n",
              "<tr>\n",
              "  <th>No. Observations:</th>      <td>147963</td>      <th>  AIC:               </th>  <td>5.988e+05</td> \n",
              "</tr>\n",
              "<tr>\n",
              "  <th>Df Residuals:</th>          <td>147951</td>      <th>  BIC:               </th>  <td>5.990e+05</td> \n",
              "</tr>\n",
              "<tr>\n",
              "  <th>Df Model:</th>              <td>    11</td>      <th>                     </th>      <td> </td>     \n",
              "</tr>\n",
              "<tr>\n",
              "  <th>Covariance Type:</th>      <td>nonrobust</td>    <th>                     </th>      <td> </td>     \n",
              "</tr>\n",
              "</table>\n",
              "<table class=\"simpletable\">\n",
              "<tr>\n",
              "              <td></td>                 <th>coef</th>     <th>std err</th>      <th>t</th>      <th>P>|t|</th>  <th>[0.025</th>    <th>0.975]</th>  \n",
              "</tr>\n",
              "<tr>\n",
              "  <th>Intercept</th>                 <td>   -2.3509</td> <td>    0.033</td> <td>  -71.868</td> <td> 0.000</td> <td>   -2.415</td> <td>   -2.287</td>\n",
              "</tr>\n",
              "<tr>\n",
              "  <th>C(time_of_day)[T.evening]</th> <td>    0.2530</td> <td>    0.012</td> <td>   21.926</td> <td> 0.000</td> <td>    0.230</td> <td>    0.276</td>\n",
              "</tr>\n",
              "<tr>\n",
              "  <th>C(time_of_day)[T.morning]</th> <td>   -0.2960</td> <td>    0.016</td> <td>  -18.471</td> <td> 0.000</td> <td>   -0.327</td> <td>   -0.265</td>\n",
              "</tr>\n",
              "<tr>\n",
              "  <th>C(time_of_day)[T.night]</th>   <td>    0.3471</td> <td>    0.014</td> <td>   24.669</td> <td> 0.000</td> <td>    0.319</td> <td>    0.375</td>\n",
              "</tr>\n",
              "<tr>\n",
              "  <th>C(season)[T.spring]</th>       <td>    0.0468</td> <td>    0.017</td> <td>    2.699</td> <td> 0.007</td> <td>    0.013</td> <td>    0.081</td>\n",
              "</tr>\n",
              "<tr>\n",
              "  <th>C(season)[T.summer]</th>       <td>   -0.1714</td> <td>    0.012</td> <td>  -14.403</td> <td> 0.000</td> <td>   -0.195</td> <td>   -0.148</td>\n",
              "</tr>\n",
              "<tr>\n",
              "  <th>C(season)[T.winter]</th>       <td>    0.2565</td> <td>    0.013</td> <td>   20.441</td> <td> 0.000</td> <td>    0.232</td> <td>    0.281</td>\n",
              "</tr>\n",
              "<tr>\n",
              "  <th>posts</th>                     <td>    1.2315</td> <td>    0.005</td> <td>  243.900</td> <td> 0.000</td> <td>    1.222</td> <td>    1.241</td>\n",
              "</tr>\n",
              "<tr>\n",
              "  <th>caption_sentiment</th>         <td>    0.0056</td> <td>    0.005</td> <td>    1.207</td> <td> 0.228</td> <td>   -0.004</td> <td>    0.015</td>\n",
              "</tr>\n",
              "<tr>\n",
              "  <th>beach</th>                     <td>    0.4952</td> <td>    0.047</td> <td>   10.589</td> <td> 0.000</td> <td>    0.404</td> <td>    0.587</td>\n",
              "</tr>\n",
              "<tr>\n",
              "  <th>cute_animals</th>              <td>   -0.0103</td> <td>    0.058</td> <td>   -0.177</td> <td> 0.860</td> <td>   -0.125</td> <td>    0.104</td>\n",
              "</tr>\n",
              "<tr>\n",
              "  <th>face</th>                      <td>   -0.0783</td> <td>    0.011</td> <td>   -7.116</td> <td> 0.000</td> <td>   -0.100</td> <td>   -0.057</td>\n",
              "</tr>\n",
              "</table>\n",
              "<table class=\"simpletable\">\n",
              "<tr>\n",
              "  <th>Omnibus:</th>       <td>1176.104</td> <th>  Durbin-Watson:     </th> <td>   1.889</td> \n",
              "</tr>\n",
              "<tr>\n",
              "  <th>Prob(Omnibus):</th>  <td> 0.000</td>  <th>  Jarque-Bera (JB):  </th> <td>1353.831</td> \n",
              "</tr>\n",
              "<tr>\n",
              "  <th>Skew:</th>           <td> 0.168</td>  <th>  Prob(JB):          </th> <td>1.05e-294</td>\n",
              "</tr>\n",
              "<tr>\n",
              "  <th>Kurtosis:</th>       <td> 3.327</td>  <th>  Cond. No.          </th> <td>    77.1</td> \n",
              "</tr>\n",
              "</table><br/><br/>Notes:<br/>[1] Standard Errors assume that the covariance matrix of the errors is correctly specified."
            ]
          },
          "metadata": {},
          "execution_count": 16
        }
      ]
    },
    {
      "cell_type": "markdown",
      "source": [
        "## 7. Adding Quadratic Terms\n",
        "\n",
        "Interpretations:\n",
        "- Feature Complexity\n",
        "  - All else equal, the number of predicted likes increases with feature complexity until it hits a degree of 2. After that the number of predicted likes will start decreasing.\n",
        "- Design Complexity\n",
        "  - All else equal, the number of predicted likes decreases with design complexity until it hits a degree of 1. After that the number of predicted likes will start increasing."
      ],
      "metadata": {
        "id": "Fe76dx_sOodt"
      }
    },
    {
      "cell_type": "code",
      "source": [
        "res = smf.ols('loglikes ~ feature_complexity + I(feature_complexity **2) + design_complexity + I(design_complexity**2) + C(time_of_day) + C(season) + posts + caption_sentiment + beach + cute_animals + face + logfollowers', data = df).fit()\n",
        "res.summary()\n"
      ],
      "metadata": {
        "id": "D-Kwz3p2O_KE",
        "colab": {
          "base_uri": "https://localhost:8080/",
          "height": 759
        },
        "outputId": "2e31ca77-1353-43b9-a6b4-8b73ace88aa6"
      },
      "execution_count": null,
      "outputs": [
        {
          "output_type": "execute_result",
          "data": {
            "text/plain": [
              "<class 'statsmodels.iolib.summary.Summary'>\n",
              "\"\"\"\n",
              "                            OLS Regression Results                            \n",
              "==============================================================================\n",
              "Dep. Variable:               loglikes   R-squared:                       0.866\n",
              "Model:                            OLS   Adj. R-squared:                  0.866\n",
              "Method:                 Least Squares   F-statistic:                 5.958e+04\n",
              "Date:                Tue, 09 May 2023   Prob (F-statistic):               0.00\n",
              "Time:                        19:11:54   Log-Likelihood:            -1.7747e+05\n",
              "No. Observations:              147963   AIC:                         3.550e+05\n",
              "Df Residuals:                  147946   BIC:                         3.551e+05\n",
              "Df Model:                          16                                         \n",
              "Covariance Type:            nonrobust                                         \n",
              "==============================================================================================\n",
              "                                 coef    std err          t      P>|t|      [0.025      0.975]\n",
              "----------------------------------------------------------------------------------------------\n",
              "Intercept                     -2.3775      0.035    -68.434      0.000      -2.446      -2.309\n",
              "C(time_of_day)[T.evening]      0.0432      0.005      8.519      0.000       0.033       0.053\n",
              "C(time_of_day)[T.morning]      0.0263      0.007      3.733      0.000       0.012       0.040\n",
              "C(time_of_day)[T.night]        0.0944      0.006     15.268      0.000       0.082       0.106\n",
              "C(season)[T.spring]           -0.0493      0.008     -6.464      0.000      -0.064      -0.034\n",
              "C(season)[T.summer]           -0.0975      0.005    -18.635      0.000      -0.108      -0.087\n",
              "C(season)[T.winter]            0.2004      0.006     36.395      0.000       0.190       0.211\n",
              "feature_complexity             0.6517      0.048     13.542      0.000       0.557       0.746\n",
              "I(feature_complexity ** 2)    -0.1570      0.018     -8.557      0.000      -0.193      -0.121\n",
              "design_complexity             -0.3406      0.030    -11.401      0.000      -0.399      -0.282\n",
              "I(design_complexity ** 2)      0.1815      0.018     10.140      0.000       0.146       0.217\n",
              "posts                         -0.2469      0.003    -84.987      0.000      -0.253      -0.241\n",
              "caption_sentiment              0.0034      0.002      1.688      0.091      -0.001       0.007\n",
              "beach                          0.1497      0.021      7.276      0.000       0.109       0.190\n",
              "cute_animals                   0.0028      0.026      0.111      0.912      -0.047       0.053\n",
              "face                          -0.1217      0.005    -25.079      0.000      -0.131      -0.112\n",
              "logfollowers                   0.9025      0.001    778.108      0.000       0.900       0.905\n",
              "==============================================================================\n",
              "Omnibus:                     5610.296   Durbin-Watson:                   1.865\n",
              "Prob(Omnibus):                  0.000   Jarque-Bera (JB):             8471.747\n",
              "Skew:                          -0.364   Prob(JB):                         0.00\n",
              "Kurtosis:                       3.918   Cond. No.                         343.\n",
              "==============================================================================\n",
              "\n",
              "Notes:\n",
              "[1] Standard Errors assume that the covariance matrix of the errors is correctly specified.\n",
              "\"\"\""
            ],
            "text/html": [
              "<table class=\"simpletable\">\n",
              "<caption>OLS Regression Results</caption>\n",
              "<tr>\n",
              "  <th>Dep. Variable:</th>        <td>loglikes</td>     <th>  R-squared:         </th>  <td>   0.866</td>  \n",
              "</tr>\n",
              "<tr>\n",
              "  <th>Model:</th>                   <td>OLS</td>       <th>  Adj. R-squared:    </th>  <td>   0.866</td>  \n",
              "</tr>\n",
              "<tr>\n",
              "  <th>Method:</th>             <td>Least Squares</td>  <th>  F-statistic:       </th>  <td>5.958e+04</td> \n",
              "</tr>\n",
              "<tr>\n",
              "  <th>Date:</th>             <td>Tue, 09 May 2023</td> <th>  Prob (F-statistic):</th>   <td>  0.00</td>   \n",
              "</tr>\n",
              "<tr>\n",
              "  <th>Time:</th>                 <td>19:11:54</td>     <th>  Log-Likelihood:    </th> <td>-1.7747e+05</td>\n",
              "</tr>\n",
              "<tr>\n",
              "  <th>No. Observations:</th>      <td>147963</td>      <th>  AIC:               </th>  <td>3.550e+05</td> \n",
              "</tr>\n",
              "<tr>\n",
              "  <th>Df Residuals:</th>          <td>147946</td>      <th>  BIC:               </th>  <td>3.551e+05</td> \n",
              "</tr>\n",
              "<tr>\n",
              "  <th>Df Model:</th>              <td>    16</td>      <th>                     </th>      <td> </td>     \n",
              "</tr>\n",
              "<tr>\n",
              "  <th>Covariance Type:</th>      <td>nonrobust</td>    <th>                     </th>      <td> </td>     \n",
              "</tr>\n",
              "</table>\n",
              "<table class=\"simpletable\">\n",
              "<tr>\n",
              "               <td></td>                 <th>coef</th>     <th>std err</th>      <th>t</th>      <th>P>|t|</th>  <th>[0.025</th>    <th>0.975]</th>  \n",
              "</tr>\n",
              "<tr>\n",
              "  <th>Intercept</th>                  <td>   -2.3775</td> <td>    0.035</td> <td>  -68.434</td> <td> 0.000</td> <td>   -2.446</td> <td>   -2.309</td>\n",
              "</tr>\n",
              "<tr>\n",
              "  <th>C(time_of_day)[T.evening]</th>  <td>    0.0432</td> <td>    0.005</td> <td>    8.519</td> <td> 0.000</td> <td>    0.033</td> <td>    0.053</td>\n",
              "</tr>\n",
              "<tr>\n",
              "  <th>C(time_of_day)[T.morning]</th>  <td>    0.0263</td> <td>    0.007</td> <td>    3.733</td> <td> 0.000</td> <td>    0.012</td> <td>    0.040</td>\n",
              "</tr>\n",
              "<tr>\n",
              "  <th>C(time_of_day)[T.night]</th>    <td>    0.0944</td> <td>    0.006</td> <td>   15.268</td> <td> 0.000</td> <td>    0.082</td> <td>    0.106</td>\n",
              "</tr>\n",
              "<tr>\n",
              "  <th>C(season)[T.spring]</th>        <td>   -0.0493</td> <td>    0.008</td> <td>   -6.464</td> <td> 0.000</td> <td>   -0.064</td> <td>   -0.034</td>\n",
              "</tr>\n",
              "<tr>\n",
              "  <th>C(season)[T.summer]</th>        <td>   -0.0975</td> <td>    0.005</td> <td>  -18.635</td> <td> 0.000</td> <td>   -0.108</td> <td>   -0.087</td>\n",
              "</tr>\n",
              "<tr>\n",
              "  <th>C(season)[T.winter]</th>        <td>    0.2004</td> <td>    0.006</td> <td>   36.395</td> <td> 0.000</td> <td>    0.190</td> <td>    0.211</td>\n",
              "</tr>\n",
              "<tr>\n",
              "  <th>feature_complexity</th>         <td>    0.6517</td> <td>    0.048</td> <td>   13.542</td> <td> 0.000</td> <td>    0.557</td> <td>    0.746</td>\n",
              "</tr>\n",
              "<tr>\n",
              "  <th>I(feature_complexity ** 2)</th> <td>   -0.1570</td> <td>    0.018</td> <td>   -8.557</td> <td> 0.000</td> <td>   -0.193</td> <td>   -0.121</td>\n",
              "</tr>\n",
              "<tr>\n",
              "  <th>design_complexity</th>          <td>   -0.3406</td> <td>    0.030</td> <td>  -11.401</td> <td> 0.000</td> <td>   -0.399</td> <td>   -0.282</td>\n",
              "</tr>\n",
              "<tr>\n",
              "  <th>I(design_complexity ** 2)</th>  <td>    0.1815</td> <td>    0.018</td> <td>   10.140</td> <td> 0.000</td> <td>    0.146</td> <td>    0.217</td>\n",
              "</tr>\n",
              "<tr>\n",
              "  <th>posts</th>                      <td>   -0.2469</td> <td>    0.003</td> <td>  -84.987</td> <td> 0.000</td> <td>   -0.253</td> <td>   -0.241</td>\n",
              "</tr>\n",
              "<tr>\n",
              "  <th>caption_sentiment</th>          <td>    0.0034</td> <td>    0.002</td> <td>    1.688</td> <td> 0.091</td> <td>   -0.001</td> <td>    0.007</td>\n",
              "</tr>\n",
              "<tr>\n",
              "  <th>beach</th>                      <td>    0.1497</td> <td>    0.021</td> <td>    7.276</td> <td> 0.000</td> <td>    0.109</td> <td>    0.190</td>\n",
              "</tr>\n",
              "<tr>\n",
              "  <th>cute_animals</th>               <td>    0.0028</td> <td>    0.026</td> <td>    0.111</td> <td> 0.912</td> <td>   -0.047</td> <td>    0.053</td>\n",
              "</tr>\n",
              "<tr>\n",
              "  <th>face</th>                       <td>   -0.1217</td> <td>    0.005</td> <td>  -25.079</td> <td> 0.000</td> <td>   -0.131</td> <td>   -0.112</td>\n",
              "</tr>\n",
              "<tr>\n",
              "  <th>logfollowers</th>               <td>    0.9025</td> <td>    0.001</td> <td>  778.108</td> <td> 0.000</td> <td>    0.900</td> <td>    0.905</td>\n",
              "</tr>\n",
              "</table>\n",
              "<table class=\"simpletable\">\n",
              "<tr>\n",
              "  <th>Omnibus:</th>       <td>5610.296</td> <th>  Durbin-Watson:     </th> <td>   1.865</td>\n",
              "</tr>\n",
              "<tr>\n",
              "  <th>Prob(Omnibus):</th>  <td> 0.000</td>  <th>  Jarque-Bera (JB):  </th> <td>8471.747</td>\n",
              "</tr>\n",
              "<tr>\n",
              "  <th>Skew:</th>           <td>-0.364</td>  <th>  Prob(JB):          </th> <td>    0.00</td>\n",
              "</tr>\n",
              "<tr>\n",
              "  <th>Kurtosis:</th>       <td> 3.918</td>  <th>  Cond. No.          </th> <td>    343.</td>\n",
              "</tr>\n",
              "</table><br/><br/>Notes:<br/>[1] Standard Errors assume that the covariance matrix of the errors is correctly specified."
            ]
          },
          "metadata": {},
          "execution_count": 17
        }
      ]
    },
    {
      "cell_type": "code",
      "source": [
        "#Plotting Feature Complexity Quadratic Term\n",
        "\n",
        "quad_form = (0.6517 * newdf.feature_complexity)  + (-0.1570 * np.power(newdf.feature_complexity, 2))\n",
        "\n",
        "plt.scatter(newdf.feature_complexity, quad_form)\n",
        "plt.title('Feature Complexity vs. Predicted Likes')\n",
        "plt.xlabel('Degree of Feature complexity')\n",
        "plt.ylabel('Predicted Likes')"
      ],
      "metadata": {
        "id": "I6mIpnGzUKUV",
        "colab": {
          "base_uri": "https://localhost:8080/",
          "height": 489
        },
        "outputId": "22f176ef-01d2-44ec-e387-41c62650f703"
      },
      "execution_count": null,
      "outputs": [
        {
          "output_type": "execute_result",
          "data": {
            "text/plain": [
              "Text(0, 0.5, 'Predicted Likes')"
            ]
          },
          "metadata": {},
          "execution_count": 18
        },
        {
          "output_type": "display_data",
          "data": {
            "text/plain": [
              "<Figure size 640x480 with 1 Axes>"
            ],
            "image/png": "[encoded data removed]"
          },
          "metadata": {}
        }
      ]
    },
    {
      "cell_type": "code",
      "source": [
        "#Plotting Design Complexity Quadratic Term\n",
        "\n",
        "quad_form2 = (-0.3406 * newdf.design_complexity)  + (0.1815 * np.power(newdf.design_complexity, 2))\n",
        "\n",
        "plt.scatter(newdf.design_complexity, quad_form2)\n",
        "plt.title('Design Complexity vs. Predicted Likes')\n",
        "plt.xlabel('Degree of Design Complexity')\n",
        "plt.ylabel('Predicted Likes')"
      ],
      "metadata": {
        "id": "JOtQJXcncC2W",
        "colab": {
          "base_uri": "https://localhost:8080/",
          "height": 489
        },
        "outputId": "a61d6a20-1875-409a-85a7-43b9bbcc1dfb"
      },
      "execution_count": null,
      "outputs": [
        {
          "output_type": "execute_result",
          "data": {
            "text/plain": [
              "Text(0, 0.5, 'Predicted Likes')"
            ]
          },
          "metadata": {},
          "execution_count": 19
        },
        {
          "output_type": "display_data",
          "data": {
            "text/plain": [
              "<Figure size 640x480 with 1 Axes>"
            ],
            "image/png": "[encoded data removed]"
          },
          "metadata": {}
        }
      ]
    },
    {
      "cell_type": "markdown",
      "source": [
        "## 8. Marginal Effects"
      ],
      "metadata": {
        "id": "veiYVgNmQ9qS"
      }
    },
    {
      "cell_type": "code",
      "source": [
        "for x in range(5, 21):\n",
        "    x_val = x / 10.0\n",
        "    y = 0.6517 + 2.0 * (-0.1570) * x_val\n",
        "\n",
        "    print(\"x = {:.1f}, y = {:.4f}\".format(x_val, y))\n"
      ],
      "metadata": {
        "colab": {
          "base_uri": "https://localhost:8080/"
        },
        "id": "941A-3ElW5JI",
        "outputId": "f2cba647-a73d-4406-d4cd-c04028ae69b5"
      },
      "execution_count": null,
      "outputs": [
        {
          "output_type": "stream",
          "name": "stdout",
          "text": [
            "x = 0.5, y = 0.4947\n",
            "x = 0.6, y = 0.4633\n",
            "x = 0.7, y = 0.4319\n",
            "x = 0.8, y = 0.4005\n",
            "x = 0.9, y = 0.3691\n",
            "x = 1.0, y = 0.3377\n",
            "x = 1.1, y = 0.3063\n",
            "x = 1.2, y = 0.2749\n",
            "x = 1.3, y = 0.2435\n",
            "x = 1.4, y = 0.2121\n",
            "x = 1.5, y = 0.1807\n",
            "x = 1.6, y = 0.1493\n",
            "x = 1.7, y = 0.1179\n",
            "x = 1.8, y = 0.0865\n",
            "x = 1.9, y = 0.0551\n",
            "x = 2.0, y = 0.0237\n"
          ]
        }
      ]
    },
    {
      "cell_type": "markdown",
      "source": [
        "For every one unit increase in feature complexity, the log likes will increase by the y values shown above. At 0.5, log likes are .4947%, whereas at at 1, log likes are 0.3377%. As feature complexity increases, log likes decrease."
      ],
      "metadata": {
        "id": "Eexra4vVZdNq"
      }
    },
    {
      "cell_type": "code",
      "source": [
        "results = {}\n",
        "\n",
        "for x in range(10, 21):\n",
        "    x_val = x / 10.0\n",
        "    y = 0.6517 + 2.0 * (-0.1570) * x_val\n",
        "    results[x_val] = y\n",
        "\n",
        "plt.plot(list(results.keys()), list(results.values()), 'o-')\n",
        "plt.xlabel('Unit increase in feature complexity')\n",
        "plt.ylabel('Log Likes')\n",
        "plt.title('Plot of y = 0.6517 + 2.0*(-0.1570)*x')\n",
        "plt.show()\n"
      ],
      "metadata": {
        "colab": {
          "base_uri": "https://localhost:8080/",
          "height": 472
        },
        "id": "VVLIl-1BYi9H",
        "outputId": "8675b387-f81d-410b-9202-434aad657a1f"
      },
      "execution_count": null,
      "outputs": [
        {
          "output_type": "display_data",
          "data": {
            "text/plain": [
              "<Figure size 640x480 with 1 Axes>"
            ],
            "image/png": "[encoded data removed]"
          },
          "metadata": {}
        }
      ]
    },
    {
      "cell_type": "markdown",
      "source": [
        "## 9. 'Faces' Interaction\n",
        "\n",
        "All else equal, while there is a 0.05 percent increase in likes when there is a human face with a beach as opposed to no beach, the p-value makes this interaction insignificant. This would make Reddit incorrect."
      ],
      "metadata": {
        "id": "l-JeIrAtRH6T"
      }
    },
    {
      "cell_type": "code",
      "source": [
        "res = smf.ols('loglikes ~ feature_complexity + I(feature_complexity **2) + design_complexity + I(design_complexity**2) + C(time_of_day) + C(season) + posts + caption_sentiment + beach + cute_animals + face + logfollowers + face:beach', data = df).fit()\n",
        "res.summary()"
      ],
      "metadata": {
        "id": "XdGcDu2VRLQp",
        "colab": {
          "base_uri": "https://localhost:8080/",
          "height": 780
        },
        "outputId": "d12084c8-a4f9-4718-8e28-85ebb06478ee"
      },
      "execution_count": null,
      "outputs": [
        {
          "output_type": "execute_result",
          "data": {
            "text/plain": [
              "<class 'statsmodels.iolib.summary.Summary'>\n",
              "\"\"\"\n",
              "                            OLS Regression Results                            \n",
              "==============================================================================\n",
              "Dep. Variable:               loglikes   R-squared:                       0.866\n",
              "Model:                            OLS   Adj. R-squared:                  0.866\n",
              "Method:                 Least Squares   F-statistic:                 5.607e+04\n",
              "Date:                Tue, 09 May 2023   Prob (F-statistic):               0.00\n",
              "Time:                        19:11:59   Log-Likelihood:            -1.7747e+05\n",
              "No. Observations:              147963   AIC:                         3.550e+05\n",
              "Df Residuals:                  147945   BIC:                         3.552e+05\n",
              "Df Model:                          17                                         \n",
              "Covariance Type:            nonrobust                                         \n",
              "==============================================================================================\n",
              "                                 coef    std err          t      P>|t|      [0.025      0.975]\n",
              "----------------------------------------------------------------------------------------------\n",
              "Intercept                     -2.3774      0.035    -68.430      0.000      -2.446      -2.309\n",
              "C(time_of_day)[T.evening]      0.0432      0.005      8.520      0.000       0.033       0.053\n",
              "C(time_of_day)[T.morning]      0.0263      0.007      3.730      0.000       0.012       0.040\n",
              "C(time_of_day)[T.night]        0.0944      0.006     15.273      0.000       0.082       0.107\n",
              "C(season)[T.spring]           -0.0493      0.008     -6.465      0.000      -0.064      -0.034\n",
              "C(season)[T.summer]           -0.0975      0.005    -18.639      0.000      -0.108      -0.087\n",
              "C(season)[T.winter]            0.2004      0.006     36.392      0.000       0.190       0.211\n",
              "feature_complexity             0.6518      0.048     13.544      0.000       0.557       0.746\n",
              "I(feature_complexity ** 2)    -0.1570      0.018     -8.558      0.000      -0.193      -0.121\n",
              "design_complexity             -0.3408      0.030    -11.408      0.000      -0.399      -0.282\n",
              "I(design_complexity ** 2)      0.1816      0.018     10.146      0.000       0.146       0.217\n",
              "posts                         -0.2470      0.003    -84.988      0.000      -0.253      -0.241\n",
              "caption_sentiment              0.0035      0.002      1.693      0.090      -0.001       0.007\n",
              "beach                          0.1421      0.022      6.441      0.000       0.099       0.185\n",
              "cute_animals                   0.0027      0.026      0.107      0.915      -0.047       0.053\n",
              "face                          -0.1220      0.005    -25.076      0.000      -0.132      -0.113\n",
              "logfollowers                   0.9025      0.001    778.108      0.000       0.900       0.905\n",
              "face:beach                     0.0585      0.061      0.961      0.337      -0.061       0.178\n",
              "==============================================================================\n",
              "Omnibus:                     5612.758   Durbin-Watson:                   1.865\n",
              "Prob(Omnibus):                  0.000   Jarque-Bera (JB):             8477.193\n",
              "Skew:                          -0.364   Prob(JB):                         0.00\n",
              "Kurtosis:                       3.919   Cond. No.                         352.\n",
              "==============================================================================\n",
              "\n",
              "Notes:\n",
              "[1] Standard Errors assume that the covariance matrix of the errors is correctly specified.\n",
              "\"\"\""
            ],
            "text/html": [
              "<table class=\"simpletable\">\n",
              "<caption>OLS Regression Results</caption>\n",
              "<tr>\n",
              "  <th>Dep. Variable:</th>        <td>loglikes</td>     <th>  R-squared:         </th>  <td>   0.866</td>  \n",
              "</tr>\n",
              "<tr>\n",
              "  <th>Model:</th>                   <td>OLS</td>       <th>  Adj. R-squared:    </th>  <td>   0.866</td>  \n",
              "</tr>\n",
              "<tr>\n",
              "  <th>Method:</th>             <td>Least Squares</td>  <th>  F-statistic:       </th>  <td>5.607e+04</td> \n",
              "</tr>\n",
              "<tr>\n",
              "  <th>Date:</th>             <td>Tue, 09 May 2023</td> <th>  Prob (F-statistic):</th>   <td>  0.00</td>   \n",
              "</tr>\n",
              "<tr>\n",
              "  <th>Time:</th>                 <td>19:11:59</td>     <th>  Log-Likelihood:    </th> <td>-1.7747e+05</td>\n",
              "</tr>\n",
              "<tr>\n",
              "  <th>No. Observations:</th>      <td>147963</td>      <th>  AIC:               </th>  <td>3.550e+05</td> \n",
              "</tr>\n",
              "<tr>\n",
              "  <th>Df Residuals:</th>          <td>147945</td>      <th>  BIC:               </th>  <td>3.552e+05</td> \n",
              "</tr>\n",
              "<tr>\n",
              "  <th>Df Model:</th>              <td>    17</td>      <th>                     </th>      <td> </td>     \n",
              "</tr>\n",
              "<tr>\n",
              "  <th>Covariance Type:</th>      <td>nonrobust</td>    <th>                     </th>      <td> </td>     \n",
              "</tr>\n",
              "</table>\n",
              "<table class=\"simpletable\">\n",
              "<tr>\n",
              "               <td></td>                 <th>coef</th>     <th>std err</th>      <th>t</th>      <th>P>|t|</th>  <th>[0.025</th>    <th>0.975]</th>  \n",
              "</tr>\n",
              "<tr>\n",
              "  <th>Intercept</th>                  <td>   -2.3774</td> <td>    0.035</td> <td>  -68.430</td> <td> 0.000</td> <td>   -2.446</td> <td>   -2.309</td>\n",
              "</tr>\n",
              "<tr>\n",
              "  <th>C(time_of_day)[T.evening]</th>  <td>    0.0432</td> <td>    0.005</td> <td>    8.520</td> <td> 0.000</td> <td>    0.033</td> <td>    0.053</td>\n",
              "</tr>\n",
              "<tr>\n",
              "  <th>C(time_of_day)[T.morning]</th>  <td>    0.0263</td> <td>    0.007</td> <td>    3.730</td> <td> 0.000</td> <td>    0.012</td> <td>    0.040</td>\n",
              "</tr>\n",
              "<tr>\n",
              "  <th>C(time_of_day)[T.night]</th>    <td>    0.0944</td> <td>    0.006</td> <td>   15.273</td> <td> 0.000</td> <td>    0.082</td> <td>    0.107</td>\n",
              "</tr>\n",
              "<tr>\n",
              "  <th>C(season)[T.spring]</th>        <td>   -0.0493</td> <td>    0.008</td> <td>   -6.465</td> <td> 0.000</td> <td>   -0.064</td> <td>   -0.034</td>\n",
              "</tr>\n",
              "<tr>\n",
              "  <th>C(season)[T.summer]</th>        <td>   -0.0975</td> <td>    0.005</td> <td>  -18.639</td> <td> 0.000</td> <td>   -0.108</td> <td>   -0.087</td>\n",
              "</tr>\n",
              "<tr>\n",
              "  <th>C(season)[T.winter]</th>        <td>    0.2004</td> <td>    0.006</td> <td>   36.392</td> <td> 0.000</td> <td>    0.190</td> <td>    0.211</td>\n",
              "</tr>\n",
              "<tr>\n",
              "  <th>feature_complexity</th>         <td>    0.6518</td> <td>    0.048</td> <td>   13.544</td> <td> 0.000</td> <td>    0.557</td> <td>    0.746</td>\n",
              "</tr>\n",
              "<tr>\n",
              "  <th>I(feature_complexity ** 2)</th> <td>   -0.1570</td> <td>    0.018</td> <td>   -8.558</td> <td> 0.000</td> <td>   -0.193</td> <td>   -0.121</td>\n",
              "</tr>\n",
              "<tr>\n",
              "  <th>design_complexity</th>          <td>   -0.3408</td> <td>    0.030</td> <td>  -11.408</td> <td> 0.000</td> <td>   -0.399</td> <td>   -0.282</td>\n",
              "</tr>\n",
              "<tr>\n",
              "  <th>I(design_complexity ** 2)</th>  <td>    0.1816</td> <td>    0.018</td> <td>   10.146</td> <td> 0.000</td> <td>    0.146</td> <td>    0.217</td>\n",
              "</tr>\n",
              "<tr>\n",
              "  <th>posts</th>                      <td>   -0.2470</td> <td>    0.003</td> <td>  -84.988</td> <td> 0.000</td> <td>   -0.253</td> <td>   -0.241</td>\n",
              "</tr>\n",
              "<tr>\n",
              "  <th>caption_sentiment</th>          <td>    0.0035</td> <td>    0.002</td> <td>    1.693</td> <td> 0.090</td> <td>   -0.001</td> <td>    0.007</td>\n",
              "</tr>\n",
              "<tr>\n",
              "  <th>beach</th>                      <td>    0.1421</td> <td>    0.022</td> <td>    6.441</td> <td> 0.000</td> <td>    0.099</td> <td>    0.185</td>\n",
              "</tr>\n",
              "<tr>\n",
              "  <th>cute_animals</th>               <td>    0.0027</td> <td>    0.026</td> <td>    0.107</td> <td> 0.915</td> <td>   -0.047</td> <td>    0.053</td>\n",
              "</tr>\n",
              "<tr>\n",
              "  <th>face</th>                       <td>   -0.1220</td> <td>    0.005</td> <td>  -25.076</td> <td> 0.000</td> <td>   -0.132</td> <td>   -0.113</td>\n",
              "</tr>\n",
              "<tr>\n",
              "  <th>logfollowers</th>               <td>    0.9025</td> <td>    0.001</td> <td>  778.108</td> <td> 0.000</td> <td>    0.900</td> <td>    0.905</td>\n",
              "</tr>\n",
              "<tr>\n",
              "  <th>face:beach</th>                 <td>    0.0585</td> <td>    0.061</td> <td>    0.961</td> <td> 0.337</td> <td>   -0.061</td> <td>    0.178</td>\n",
              "</tr>\n",
              "</table>\n",
              "<table class=\"simpletable\">\n",
              "<tr>\n",
              "  <th>Omnibus:</th>       <td>5612.758</td> <th>  Durbin-Watson:     </th> <td>   1.865</td>\n",
              "</tr>\n",
              "<tr>\n",
              "  <th>Prob(Omnibus):</th>  <td> 0.000</td>  <th>  Jarque-Bera (JB):  </th> <td>8477.193</td>\n",
              "</tr>\n",
              "<tr>\n",
              "  <th>Skew:</th>           <td>-0.364</td>  <th>  Prob(JB):          </th> <td>    0.00</td>\n",
              "</tr>\n",
              "<tr>\n",
              "  <th>Kurtosis:</th>       <td> 3.919</td>  <th>  Cond. No.          </th> <td>    352.</td>\n",
              "</tr>\n",
              "</table><br/><br/>Notes:<br/>[1] Standard Errors assume that the covariance matrix of the errors is correctly specified."
            ]
          },
          "metadata": {},
          "execution_count": 22
        }
      ]
    },
    {
      "cell_type": "markdown",
      "source": [
        "## 10. Advice\n",
        "\n",
        "- The best way for influencers to gain followers is to get as many likes (exposure) as possible as there is a strong, positive correlation between the two.\n",
        "- Understand that posting at nighttime will garner the most likes, and that posting in the afternoon will most likely gain the least amount of likes.\n",
        "- Take advantage of the winter season by posting pictures of the outdoors. This season of the year will get likely get you more likes than the other seasons.\n",
        "- If possible, post pictures either of the beach or with it in the background as this will likely garner more likes.\n",
        "- Try to be selective with posts, as the saturation of your account will increase as the number of posts increase.\n",
        "- Posts that either have a very simple or very complex structure can possibly garner more likes. Try to make posts that either have few symmetrical objects in the image or have a unique/chaotic structure that makes itself stand out.\n",
        "- Use filters that come off as \"natural\". Posts that are too dark or too bright may cause likes to decrease compared to regular filters."
      ],
      "metadata": {
        "id": "bshTUCSORLol"
      }
    },
    {
      "cell_type": "markdown",
      "source": [
        "## 11. Bonus\n",
        "\n",
        "Besides the complexity terms and followers, the number of posts that an account has will impact the number of likes the most. This correlation is negative, meaning the more posts and account has will result in less likes per post."
      ],
      "metadata": {
        "id": "Inw39KDfRT1i"
      }
    }
  ]
}